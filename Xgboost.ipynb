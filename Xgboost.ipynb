{
  "nbformat": 4,
  "nbformat_minor": 0,
  "metadata": {
    "colab": {
      "name": "Xgboost.ipynb",
      "provenance": [],
      "mount_file_id": "10FwR8rme17II_cb4Zp-sM5eAVhuqRIkE",
      "authorship_tag": "ABX9TyNqutosx7+anovkw8xh8CKo",
      "include_colab_link": true
    },
    "kernelspec": {
      "display_name": "Python 3",
      "name": "python3"
    },
    "language_info": {
      "name": "python"
    }
  },
  "cells": [
    {
      "cell_type": "markdown",
      "metadata": {
        "id": "view-in-github",
        "colab_type": "text"
      },
      "source": [
        "<a href=\"https://colab.research.google.com/github/Ibra8000/ARABIC-OCR/blob/master/Xgboost.ipynb\" target=\"_parent\"><img src=\"https://colab.research.google.com/assets/colab-badge.svg\" alt=\"Open In Colab\"/></a>"
      ]
    },
    {
      "cell_type": "code",
      "metadata": {
        "id": "XAuZrf66Zu_9"
      },
      "source": [
        "import numpy as np\n",
        "import pandas as pd\n",
        "from IPython.display import display # Allows the use of display() for DataFrames\n",
        "#Feature Selection Methods\n",
        "from sklearn.feature_selection import SelectKBest\n",
        "from sklearn.feature_selection import SelectPercentile\n",
        "from sklearn.feature_selection import GenericUnivariateSelect, chi2\n",
        "#Split data to train and test\n",
        "from sklearn.model_selection import train_test_split\n",
        "from sklearn.neighbors import KNeighborsClassifier\n",
        "\n"
      ],
      "execution_count": null,
      "outputs": []
    },
    {
      "cell_type": "code",
      "metadata": {
        "id": "2o1FD9cpZ50a"
      },
      "source": [
        "# dataset_digit = pd.read_csv(\"/content/drive/MyDrive/Final_project/Digit Dataset With Lable.csv\")\n",
        "# print(dataset_digit.head())\n",
        "\n",
        "\n",
        "X = pd.read_csv(\"/content/drive/MyDrive/Final_project/Features.csv\")\n",
        "y = pd.read_csv(\"/content/drive/MyDrive/Final_project/Target.csv\")"
      ],
      "execution_count": null,
      "outputs": []
    },
    {
      "cell_type": "code",
      "metadata": {
        "colab": {
          "background_save": true,
          "base_uri": "https://localhost:8080/"
        },
        "id": "l6kBGzVlaGSV",
        "outputId": "a491453e-d63c-4bc7-b7c1-bc47d471850c"
      },
      "source": [
        "\n",
        "df = pd.DataFrame(X)\n",
        "print(\"First three rows of the data frame:\")\n",
        "print(df.iloc[:20])\n"
      ],
      "execution_count": null,
      "outputs": [
        {
          "output_type": "stream",
          "text": [
            "First three rows of the data frame:\n",
            "    0  0.1  0.2  0.3  0.4  0.5  ...  0.490  0.491  0.492  0.493  0.494  0.495\n",
            "1   0    0    0    0    0    0  ...      0      0      0      0      0      0\n",
            "2   0    0    0    0    0    0  ...      0      0      0      0      0      0\n",
            "3   0    0    0    0    0    0  ...      0      0      0      0      0      0\n",
            "4   0    0    0    0    0    0  ...      0      0      0      0      0      0\n",
            "5   0    0    0    0    0    0  ...      0      0      0      0      0      0\n",
            "6   0    0    0    0    0    0  ...      0      0      0      0      0      0\n",
            "7   0    0    0    0    0    0  ...      0      0      0      0      0      0\n",
            "8   0    0    0    0    0    0  ...      0      0      0      0      0      0\n",
            "9   0    0    0    0    0    0  ...      0      0      0      0      0      0\n",
            "10  0    0    0    0    0    0  ...      0      0      0      0      0      0\n",
            "11  0    0    0    0    0    0  ...      0      0      0      0      0      0\n",
            "12  0    0    0    0    0    0  ...      0      0      0      0      0      0\n",
            "13  0    0    0    0    0    0  ...      0      0      0      0      0      0\n",
            "14  0    0    0    0    0    0  ...      0      0      0      0      0      0\n",
            "15  0    0    0    0    0    0  ...      0      0      0      0      0      0\n",
            "16  0    0    0    0    0    0  ...      0      0      0      0      0      0\n",
            "17  0    0    0    0    0    0  ...      0      0      0      0      0      0\n",
            "18  0    0    0    0    0    0  ...      0      0      0      0      0      0\n",
            "19  0    0    0    0    0    0  ...      0      0      0      0      0      0\n",
            "\n",
            "[19 rows x 784 columns]\n"
          ],
          "name": "stdout"
        }
      ]
    },
    {
      "cell_type": "code",
      "metadata": {
        "id": "TbcYK8ttaGUt"
      },
      "source": [
        "from xgboost import XGBClassifier"
      ],
      "execution_count": null,
      "outputs": []
    }
  ]
}